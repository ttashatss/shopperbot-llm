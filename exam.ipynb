{
 "cells": [
  {
   "cell_type": "code",
   "execution_count": 85,
   "metadata": {},
   "outputs": [],
   "source": [
    "import pandas as pd\n",
    "from openai import OpenAI\n",
    "from pinecone import Pinecone\n",
    "from keys.keys import OPENAI_API_KEY, PINECONE_API_KEY, INDEX_NAME\n",
    "from functions.query_index import query_index\n",
    "from functions.read_docs import read_docs\n",
    "from functions.generate_answer import generate_answer\n",
    "from functions.query import query\n",
    "# from functions.query import query"
   ]
  },
  {
   "cell_type": "code",
   "execution_count": 86,
   "metadata": {},
   "outputs": [],
   "source": [
    "client = OpenAI(api_key=OPENAI_API_KEY)\n",
    "model = 'text-embedding-ada-002'\n",
    "\n",
    "pc = Pinecone(api_key=PINECONE_API_KEY)\n",
    "index = pc.Index(INDEX_NAME)"
   ]
  },
  {
   "cell_type": "code",
   "execution_count": 87,
   "metadata": {},
   "outputs": [
    {
     "data": {
      "text/html": [
       "<div>\n",
       "<style scoped>\n",
       "    .dataframe tbody tr th:only-of-type {\n",
       "        vertical-align: middle;\n",
       "    }\n",
       "\n",
       "    .dataframe tbody tr th {\n",
       "        vertical-align: top;\n",
       "    }\n",
       "\n",
       "    .dataframe thead th {\n",
       "        text-align: right;\n",
       "    }\n",
       "</style>\n",
       "<table border=\"1\" class=\"dataframe\">\n",
       "  <thead>\n",
       "    <tr style=\"text-align: right;\">\n",
       "      <th></th>\n",
       "      <th>Type</th>\n",
       "      <th>Question</th>\n",
       "      <th>A</th>\n",
       "      <th>B</th>\n",
       "      <th>C</th>\n",
       "      <th>D</th>\n",
       "      <th>Answer Key</th>\n",
       "    </tr>\n",
       "  </thead>\n",
       "  <tbody>\n",
       "    <tr>\n",
       "      <th>0</th>\n",
       "      <td>General Information</td>\n",
       "      <td>When is Siam Paragon opening hours?</td>\n",
       "      <td>Siam Paragon opens from 8:00 AM to 8:00 PM.</td>\n",
       "      <td>Siam Paragon opens from 9:00 AM to 9:00 PM.</td>\n",
       "      <td>Siam Paragon opens from 10:00 AM to 10:00 PM.</td>\n",
       "      <td>Siam Paragon opens from 11:00 AM to 11:00 PM.</td>\n",
       "      <td>C</td>\n",
       "    </tr>\n",
       "    <tr>\n",
       "      <th>1</th>\n",
       "      <td>General Information</td>\n",
       "      <td>Is there free Wi-Fi available in Siam Paragon?</td>\n",
       "      <td>No, there is no Wi-Fi available in Siam Paragon.</td>\n",
       "      <td>Yes, but it's only available for staff members.</td>\n",
       "      <td>Yes, there is free Wi-Fi available in Siam Par...</td>\n",
       "      <td>Yes, but customers need to pay for Wi-Fi acces...</td>\n",
       "      <td>C</td>\n",
       "    </tr>\n",
       "    <tr>\n",
       "      <th>2</th>\n",
       "      <td>General Information</td>\n",
       "      <td>Are pets allowed in Siam Paragon?</td>\n",
       "      <td>Yes, pets are welcome in Siam Paragon.</td>\n",
       "      <td>No, pets are not allowed in Siam Paragon.</td>\n",
       "      <td>Yes, but only small pets are allowed in Siam P...</td>\n",
       "      <td>Yes, but only if they are carried in pet carri...</td>\n",
       "      <td>B</td>\n",
       "    </tr>\n",
       "    <tr>\n",
       "      <th>3</th>\n",
       "      <td>General Information</td>\n",
       "      <td>What is the contact number for Siam Paragon's ...</td>\n",
       "      <td>02-610-8000</td>\n",
       "      <td>02-937-1000</td>\n",
       "      <td>02-937-1345</td>\n",
       "      <td>02-215-1000</td>\n",
       "      <td>A</td>\n",
       "    </tr>\n",
       "    <tr>\n",
       "      <th>4</th>\n",
       "      <td>General Information</td>\n",
       "      <td>Are there any prayer rooms available?</td>\n",
       "      <td>No, there are no prayer rooms available in Sia...</td>\n",
       "      <td>Yes, there is a Muslim prayer room available o...</td>\n",
       "      <td>Yes, there is a prayer room available on the 3...</td>\n",
       "      <td>Yes, there is a prayer room available on the 2...</td>\n",
       "      <td>B</td>\n",
       "    </tr>\n",
       "  </tbody>\n",
       "</table>\n",
       "</div>"
      ],
      "text/plain": [
       "                  Type                                           Question  \\\n",
       "0  General Information                When is Siam Paragon opening hours?   \n",
       "1  General Information     Is there free Wi-Fi available in Siam Paragon?   \n",
       "2  General Information                  Are pets allowed in Siam Paragon?   \n",
       "3  General Information  What is the contact number for Siam Paragon's ...   \n",
       "4  General Information              Are there any prayer rooms available?   \n",
       "\n",
       "                                                   A  \\\n",
       "0        Siam Paragon opens from 8:00 AM to 8:00 PM.   \n",
       "1   No, there is no Wi-Fi available in Siam Paragon.   \n",
       "2             Yes, pets are welcome in Siam Paragon.   \n",
       "3                                        02-610-8000   \n",
       "4  No, there are no prayer rooms available in Sia...   \n",
       "\n",
       "                                                   B  \\\n",
       "0        Siam Paragon opens from 9:00 AM to 9:00 PM.   \n",
       "1    Yes, but it's only available for staff members.   \n",
       "2          No, pets are not allowed in Siam Paragon.   \n",
       "3                                        02-937-1000   \n",
       "4  Yes, there is a Muslim prayer room available o...   \n",
       "\n",
       "                                                   C  \\\n",
       "0      Siam Paragon opens from 10:00 AM to 10:00 PM.   \n",
       "1  Yes, there is free Wi-Fi available in Siam Par...   \n",
       "2  Yes, but only small pets are allowed in Siam P...   \n",
       "3                                        02-937-1345   \n",
       "4  Yes, there is a prayer room available on the 3...   \n",
       "\n",
       "                                                   D Answer Key  \n",
       "0      Siam Paragon opens from 11:00 AM to 11:00 PM.          C  \n",
       "1  Yes, but customers need to pay for Wi-Fi acces...          C  \n",
       "2  Yes, but only if they are carried in pet carri...          B  \n",
       "3                                        02-215-1000          A  \n",
       "4  Yes, there is a prayer room available on the 2...          B  "
      ]
     },
     "execution_count": 87,
     "metadata": {},
     "output_type": "execute_result"
    }
   ],
   "source": [
    "file_name = \"/Users/tashatanarugsachock/Desktop/shopperbot-llm/dataset/exam.xlsx\" \n",
    "df = pd.DataFrame(data=pd.read_excel(io=file_name))\n",
    "\n",
    "df.head(5)"
   ]
  },
  {
   "cell_type": "code",
   "execution_count": 88,
   "metadata": {},
   "outputs": [],
   "source": [
    "base = 'From this question, what is the correct choice - answer in this format X: the answer? Question: '"
   ]
  },
  {
   "cell_type": "code",
   "execution_count": 89,
   "metadata": {},
   "outputs": [],
   "source": [
    "def dfquery(row, client, model, index):\n",
    "    q = row['Question']\n",
    "    a = row['A']\n",
    "    b = row['B']\n",
    "    c = row['C']\n",
    "    d = row['D']\n",
    "    prompt = base + q + ' A: ' + a + ' B: ' + b + ' C: ' + c + ' D: ' + d\n",
    "    \n",
    "    var_fn = {}\n",
    "    \n",
    "    index_result = query_index(client=client, model=model, index=index, prompt=prompt)\n",
    "    var_fn.update({'index_result': index_result})\n",
    "    \n",
    "    file_ids = []\n",
    "    for res in index_result:\n",
    "        file_id = res.split(': ')[1]\n",
    "        file_ids.append(file_id)\n",
    "        \n",
    "    contents = read_docs(file_ids=file_ids)\n",
    "    \n",
    "    response = generate_answer(client=client, prompt=prompt, contents=contents)\n",
    "    var_fn.update({'response': response})\n",
    "    \n",
    "    answer = var_fn.get('response', '')\n",
    "    answer = answer.replace('\\r', '').replace('\\n', '')\n",
    "    answer = answer.replace('Answer: ', '')\n",
    "   \n",
    "    return answer"
   ]
  },
  {
   "cell_type": "code",
   "execution_count": 90,
   "metadata": {},
   "outputs": [],
   "source": [
    "df['GPT'] = df.apply(dfquery, args=(client, model, index), axis = 1)"
   ]
  },
  {
   "cell_type": "code",
   "execution_count": 121,
   "metadata": {},
   "outputs": [],
   "source": [
    "def ansformat(row):\n",
    "    ans = row['GPT']\n",
    "    parts = ans.split(': ')\n",
    "    \n",
    "    if len(parts) > 2 and (ans[:6].count(\":\") == 2 or parts[0] == \"The correct choice is\"):\n",
    "        return parts[1].replace('.','')\n",
    "    else:\n",
    "        return parts[0][-1]\n",
    "    \n",
    "    \n",
    "# A: B: answer\n",
    "# The correct choice is: A: \n",
    "# .A:\n",
    "# A: time is 10:00\n",
    "# A: B: time is 10:00\n",
    "    "
   ]
  },
  {
   "cell_type": "code",
   "execution_count": 122,
   "metadata": {},
   "outputs": [],
   "source": [
    "df['ansformatted'] = df.apply(ansformat, axis = 1)"
   ]
  },
  {
   "cell_type": "code",
   "execution_count": 124,
   "metadata": {},
   "outputs": [],
   "source": [
    "def anscheck(row):\n",
    "    \n",
    "    if row['Answer Key'] == row['ansformatted']:\n",
    "        return 1\n",
    "    else:\n",
    "        return 0"
   ]
  },
  {
   "cell_type": "code",
   "execution_count": 125,
   "metadata": {},
   "outputs": [],
   "source": [
    "df['score'] = df.apply(anscheck, axis = 1)"
   ]
  },
  {
   "cell_type": "code",
   "execution_count": 127,
   "metadata": {},
   "outputs": [
    {
     "data": {
      "text/plain": [
       "Type\n",
       "ATM and Banking Services           3\n",
       "Events and Promotion               3\n",
       "General Information                5\n",
       "Membership and Loyalty Program     1\n",
       "Other Information                  9\n",
       "Parking Services                   6\n",
       "Public Transportation Access       4\n",
       "Restaurant                        21\n",
       "Restroom                           1\n",
       "Store Information                 11\n",
       "Name: score, dtype: int64"
      ]
     },
     "execution_count": 127,
     "metadata": {},
     "output_type": "execute_result"
    }
   ],
   "source": [
    "df.groupby(['Type'])['score'].sum()\n"
   ]
  },
  {
   "cell_type": "code",
   "execution_count": 149,
   "metadata": {},
   "outputs": [],
   "source": [
    "result = df.groupby('Type').agg({'score': 'sum', 'Type': 'count'})\n",
    "result['percentage'] = (result['score'] / result['Type'] * 100).round(2)\n",
    "result.columns = ['Correct Answers', 'Total Questions', 'Percentage']"
   ]
  },
  {
   "cell_type": "code",
   "execution_count": 151,
   "metadata": {},
   "outputs": [
    {
     "data": {
      "text/html": [
       "<div>\n",
       "<style scoped>\n",
       "    .dataframe tbody tr th:only-of-type {\n",
       "        vertical-align: middle;\n",
       "    }\n",
       "\n",
       "    .dataframe tbody tr th {\n",
       "        vertical-align: top;\n",
       "    }\n",
       "\n",
       "    .dataframe thead th {\n",
       "        text-align: right;\n",
       "    }\n",
       "</style>\n",
       "<table border=\"1\" class=\"dataframe\">\n",
       "  <thead>\n",
       "    <tr style=\"text-align: right;\">\n",
       "      <th></th>\n",
       "      <th>Correct Answers</th>\n",
       "      <th>Total Questions</th>\n",
       "      <th>Percentage</th>\n",
       "    </tr>\n",
       "    <tr>\n",
       "      <th>Type</th>\n",
       "      <th></th>\n",
       "      <th></th>\n",
       "      <th></th>\n",
       "    </tr>\n",
       "  </thead>\n",
       "  <tbody>\n",
       "    <tr>\n",
       "      <th>ATM and Banking Services</th>\n",
       "      <td>3</td>\n",
       "      <td>8</td>\n",
       "      <td>37.50</td>\n",
       "    </tr>\n",
       "    <tr>\n",
       "      <th>Events and Promotion</th>\n",
       "      <td>3</td>\n",
       "      <td>6</td>\n",
       "      <td>50.00</td>\n",
       "    </tr>\n",
       "    <tr>\n",
       "      <th>General Information</th>\n",
       "      <td>5</td>\n",
       "      <td>9</td>\n",
       "      <td>55.56</td>\n",
       "    </tr>\n",
       "    <tr>\n",
       "      <th>Membership and Loyalty Program</th>\n",
       "      <td>1</td>\n",
       "      <td>8</td>\n",
       "      <td>12.50</td>\n",
       "    </tr>\n",
       "    <tr>\n",
       "      <th>Other Information</th>\n",
       "      <td>9</td>\n",
       "      <td>11</td>\n",
       "      <td>81.82</td>\n",
       "    </tr>\n",
       "    <tr>\n",
       "      <th>Parking Services</th>\n",
       "      <td>6</td>\n",
       "      <td>13</td>\n",
       "      <td>46.15</td>\n",
       "    </tr>\n",
       "    <tr>\n",
       "      <th>Public Transportation Access</th>\n",
       "      <td>4</td>\n",
       "      <td>5</td>\n",
       "      <td>80.00</td>\n",
       "    </tr>\n",
       "    <tr>\n",
       "      <th>Restaurant</th>\n",
       "      <td>21</td>\n",
       "      <td>27</td>\n",
       "      <td>77.78</td>\n",
       "    </tr>\n",
       "    <tr>\n",
       "      <th>Restroom</th>\n",
       "      <td>1</td>\n",
       "      <td>6</td>\n",
       "      <td>16.67</td>\n",
       "    </tr>\n",
       "    <tr>\n",
       "      <th>Store Information</th>\n",
       "      <td>11</td>\n",
       "      <td>15</td>\n",
       "      <td>73.33</td>\n",
       "    </tr>\n",
       "  </tbody>\n",
       "</table>\n",
       "</div>"
      ],
      "text/plain": [
       "                                Correct Answers  Total Questions  Percentage\n",
       "Type                                                                        \n",
       "ATM and Banking Services                      3                8       37.50\n",
       "Events and Promotion                          3                6       50.00\n",
       "General Information                           5                9       55.56\n",
       "Membership and Loyalty Program                1                8       12.50\n",
       "Other Information                             9               11       81.82\n",
       "Parking Services                              6               13       46.15\n",
       "Public Transportation Access                  4                5       80.00\n",
       "Restaurant                                   21               27       77.78\n",
       "Restroom                                      1                6       16.67\n",
       "Store Information                            11               15       73.33"
      ]
     },
     "execution_count": 151,
     "metadata": {},
     "output_type": "execute_result"
    }
   ],
   "source": [
    "result"
   ]
  },
  {
   "cell_type": "code",
   "execution_count": 152,
   "metadata": {},
   "outputs": [],
   "source": [
    "result_path = \"/Users/tashatanarugsachock/Desktop/shopperbot-llm/dataset/result/result01.xlsx\""
   ]
  },
  {
   "cell_type": "code",
   "execution_count": 153,
   "metadata": {},
   "outputs": [],
   "source": [
    "df.to_excel(result_path, index=False)"
   ]
  }
 ],
 "metadata": {
  "kernelspec": {
   "display_name": "base",
   "language": "python",
   "name": "python3"
  },
  "language_info": {
   "codemirror_mode": {
    "name": "ipython",
    "version": 3
   },
   "file_extension": ".py",
   "mimetype": "text/x-python",
   "name": "python",
   "nbconvert_exporter": "python",
   "pygments_lexer": "ipython3",
   "version": "3.9.9"
  }
 },
 "nbformat": 4,
 "nbformat_minor": 2
}
